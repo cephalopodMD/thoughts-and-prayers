{
 "cells": [
  {
   "cell_type": "code",
   "execution_count": 1,
   "metadata": {
    "collapsed": false
   },
   "outputs": [
    {
     "name": "stdout",
     "output_type": "stream",
     "text": [
      "starting\n",
      "Index([u'URL', u'Keywords', u'Keyword Count', u'DateTime', u'Favorite Count',\n",
      "       u'Retweet', u'Lang', u'LinkCount', u'Link1', u'Link2', u'Link3',\n",
      "       u'Author', u'Text', u'Followers', u'Friends', u'Location', u'Timezone',\n",
      "       u'UTC Offset'],\n",
      "      dtype='object')\n",
      "(2414, 18)\n"
     ]
    }
   ],
   "source": [
    "# knn, SVM, random forest\n",
    "%matplotlib inline\n",
    "import matplotlib.pyplot as plt\n",
    "import numpy as np\n",
    "import pandas\n",
    "print(\"starting\")\n",
    "df = pandas.read_csv(\"tweets.csv\", sep='\\t', error_bad_lines=False) #ignore bad lines\n",
    "print(df.columns)\n",
    "print(df.shape)\n"
   ]
  },
  {
   "cell_type": "code",
   "execution_count": 82,
   "metadata": {
    "collapsed": false
   },
   "outputs": [],
   "source": [
    "# set threshold for binary classifier\n",
    "#retweets = df.Retweet\n",
    "threshold = 5000\n",
    "# train_labels = []\n",
    "# for num in retweets:\n",
    "#     if num >= threshold:\n",
    "#         train_labels.append(1) #viral\n",
    "#     else:\n",
    "#         train_labels.append(0) #not viral\n",
    "df['Viral'] =df['Retweet'].apply(lambda retweet: 1 if retweet >= threshold else 0)\n",
    "train_labels = df.Viral.values\n",
    "labels = list(set(train_labels))\n",
    "\n",
    "\n"
   ]
  },
  {
   "cell_type": "code",
   "execution_count": 103,
   "metadata": {
    "collapsed": false
   },
   "outputs": [
    {
     "name": "stdout",
     "output_type": "stream",
     "text": [
      "done\n"
     ]
    }
   ],
   "source": [
    "from sklearn.feature_extraction.text import CountVectorizer\n",
    "import re\n",
    "from nltk.stem.snowball import *\n",
    "stemmer = SnowballStemmer('english')\n",
    "#stemmer = PorterStemmer('english')\n",
    "\n",
    "#stopwords?\n",
    "stop = ['amp', 'cc', 'did', 'don', 'rt', 'll', 'oh', 've', 'yes', 'let', 'going', 'via', 're', 'tweet' ]\n",
    "#stop = []\n",
    "#http://scikit-learn.org/stable/modules/feature_extraction.html#text-feature-extraction\n",
    "# preProcess(str):\n",
    "#     url_pattern = re.compile(r'http(s?)://[\\w./]+')\n",
    "#     pic_pattern = re.compile(r'pic.twitter.com/[\\w.]+')\n",
    "#     str = pic_pattern.sub(\"\", str)\n",
    "#     str = url_pattern.sub(\"\", str)\n",
    "#     return str\n",
    "# http://shahmirj.com/blog/extracting-twitter-usertags-using-regex\n",
    "class NoUrls_CountVectorizer(CountVectorizer):\n",
    "    def build_preprocessor(self):\n",
    "        url_pattern = re.compile(r'http(s?)://[\\w./]+')\n",
    "        pic_pattern = re.compile(r'pic.twitter.com/[\\w.]+')\n",
    "        preprocessor = super(NoUrls_CountVectorizer, self).build_preprocessor()\n",
    "        return lambda doc: (pic_pattern.sub('', url_pattern.sub('', preprocessor(doc)) ))\n",
    "\n",
    "class NoUrls_Stemmed_CountVectorizer(CountVectorizer):\n",
    "    def build_preprocessor(self):\n",
    "        url_pattern = re.compile(r'(?:\\@|https?://)\\S+')\n",
    "        #url_pattern = re.compile(r'http(s?)://)[\\w./]+')\n",
    "        pic_pattern = re.compile(r'pic.twitter.com/[\\w.]+')\n",
    "        at_pattern = re.compile(r' (?<=^|(?<=[^a-zA-Z0-9-_\\\\.]))@([A-Za-z]+[A-Za-z0-9_]+)')\n",
    "        preprocessor = super(NoUrls_Stemmed_CountVectorizer, self).build_preprocessor()\n",
    "        return lambda doc: (pic_pattern.sub('', url_pattern.sub('', preprocessor(doc)) ))\n",
    "   #right now just doing splits on whitespace and stemming \n",
    "    def build_tokenizer(self):\n",
    "        tokenizer = super(NoUrls_Stemmed_CountVectorizer, self).build_tokenizer()\n",
    "        return lambda doc: (stemmer.stem(w) for w in tokenizer(doc))\n",
    "\n",
    "#bigrams? ngram_range=(1,2)\n",
    "vectorizer = NoUrls_Stemmed_CountVectorizer(ngram_range = (1,1), binary =True,\n",
    "                                    min_df=1, stop_words=stop, strip_accents='ascii')\n",
    "   \n",
    "#example processing\n",
    "# tweet = \"RT @femaIes: When you gotta go visit your broads in Atlanta https://t.co/pCau23tv3q\"\n",
    "# tweet = unicode(tweet, \"ascii\", \"ignore\")\n",
    "# print tweet\n",
    "# print 'Preprocess:', vectorizer.build_preprocessor()(tweet)\n",
    "# print\n",
    "# print 'Analyze:', vectorizer.build_analyzer()(tweet)\n",
    "# vectorizer.fit_transform([tweet])\n",
    "# vectorizer.vocabulary_  \n",
    "\n",
    "print \"done\""
   ]
  },
  {
   "cell_type": "code",
   "execution_count": 100,
   "metadata": {
    "collapsed": false
   },
   "outputs": [
    {
     "name": "stdout",
     "output_type": "stream",
     "text": [
      "[[0 0 0 ..., 0 0 0]\n",
      " [0 0 0 ..., 0 0 0]\n",
      " [0 0 0 ..., 0 0 0]\n",
      " ..., \n",
      " [0 0 0 ..., 0 0 0]\n",
      " [0 0 0 ..., 0 0 0]\n",
      " [0 0 0 ..., 0 0 0]]\n",
      "[u'00', u'000', u'00in', u'00mst', u'00pm', u'01', u'02', u'02in', u'03', u'04', u'05pm', u'06', u'07', u'08', u'081', u'09', u'0c', u'0f', u'0km', u'0kts', u'0mm', u'0mph', u'10', u'100', u'1000', u'1002', u'1004', u'1005', u'1006', u'1007', u'1008', u'1009', u'100th', u'100x', u'101', u'1011', u'1014', u'102', u'1026', u'1039', u'1080p', u'10c', u'11', u'111', u'117', u'11am', u'12', u'120', u'122', u'125', u'13', u'132', u'134', u'138', u'14', u'142', u'14th', u'15', u'150', u'1500', u'15min', u'16', u'160407', u'160409', u'160411', u'160412birthday', u'160413', u'16gb', u'16u', u'17', u'175', u'176', u'18', u'186', u'18th', u'19', u'1911', u'1983', u'1988', u'1991', u'1992', u'1999', u'1am', u'1d', u'1km', u'1m', u'1million', u'1oc', u'1st', u'1tb', u'20', u'2000', u'2004', u'2009', u'2011', u'2012', u'2013', u'2014', u'2016', u'2017', u'2020', u'2025', u'2032', u'209', u'21', u'217', u'22', u'23', u'230', u'23g', u'23mb', u'23rd', u'24', u'241', u'242', u'245', u'24hr', u'25', u'2534', u'255', u'27', u'276', u'28', u'29', u'298', u'2am', u'2c', u'2day', u'2e5df5d382b5', u'2hrs', u'2k16', u'2mph', u'2nd', u'2ne1', u'2x', u'30', u'30k', u'30pm', u'30th', u'31', u'320', u'328i', u'32gb', u'33', u'34', u'35', u'350', u'355', u'36', u'360', u'37', u'38', u'39', u'3am', u'3c', u'3d', u'3dtouch', u'3kpa', u'3kts', u'3mb', u'3mm', u'3rd', u'3x5', u'40', u'41', u'425', u'431', u'4310', u'433', u'45', u'450', u'45am', u'48', u'49', u'4934', u'497', u'49er', u'49erfx', u'4b', u'4c', u'4g', u'4k', u'4th', u'4x', u'4x6', u'50', u'500', u'501', u'50111f84', u'506', u'50k', u'52', u'527', u'55', u'575', u'58', u'59', u'59pm', u'5c', u'5m', u'5on', u'5pm', u'5sos', u'5th', u'60', u'62', u'629', u'63', u'65', u'656', u'66', u'664', u'666', u'67', u'678', u'68', u'69', u'6c', u'6k', u'6pm', u'6x', u'70', u'70s', u'73', u'74', u'765', u'77', u'7706', u'78', u'783', u'79', u'791', u'7c', u'7hpa', u'7of', u'7th', u'808', u'8262', u'86', u'87', u'88', u'8c', u'8livesleft', u'8mb', u'8pm', u'90', u'918', u'92', u'9246', u'92c', u'930', u'934', u'94', u'959e', u'96', u'97', u'98', u'988', u'98inhg', u'99', u'996', u'9am', u'9c', u'9new', u'9of', u'__', u'______', u'a229', u'a4', u'aa', u'aaaaahhhh', u'aaaalllll', u'aaron', u'ab', u'abandon', u'abbi', u'abbott', u'abbywint', u'abduct', u'abl', u'ableg', u'aboard', u'about', u'abram', u'abreu', u'absolut', u'absurd', u'abt', u'academ', u'acai', u'acc', u'accent', u'accept', u'access', u'accessori', u'accid', u'accomplish', u'accord', u'account', u'accur', u'accuraci', u'ach', u'achiev', u'achill', u'ack', u'acquir', u'across', u'act', u'action', u'activ', u'actor', u'actual', u'ad', u'adam', u'adashor', u'adashoreband', u'add', u'addict', u'addit', u'address', u'adem', u'admit', u'ador', u'adriana', u'advanc', u'advantag', u'adventur', u'advertis', u'advic', u'advis', u'af', u'affabl', u'affair', u'affect', u'affili', u'affleck', u'afford', u'afghanistan', u'afraid', u'afremov', u'african', u'after', u'afternoon', u'again', u'against', u'age', u'agenc', u'aggreg', u'aggress', u'agian', u'agil', u'ago', u'agora', u'agre', u'ah', u'aha', u'ahead', u'aid', u'ain', u'aint', u'air', u'airlin', u'airport', u'airstrik', u'ak', u'aki', u'akp', u'al', u'alaska', u'albani', u'album', u'alcohol', u'aldub', u'aldubsummerlov', u'aldubtherequest', u'ale', u'alejandro', u'alemb', u'alert', u'ali', u'alien', u'aliexpress', u'aliv', u'all', u'allegheni', u'allow', u'almost', u'alo', u'alon', u'along', u'alpaca', u'alpha', u'alreadi', u'alright', u'also', u'alt', u'although', u'alumni', u'alvarez', u'alway', u'alzheim', u'am', u'ama', u'amanda', u'amandla', u'amara', u'amaz', u'amazon', u'ambul', u'amend', u'america', u'american', u'ami', u'amid', u'amidst', u'among', u'amount', u'amsterdam', u'an', u'anakin', u'anarchi', u'anchor', u'ancient', u'and', u'andrea', u'andrew', u'android', u'anfibia', u'ang', u'angel', u'angri', u'ani', u'anim', u'animorph', u'ann', u'annapurna', u'anniversari', u'announc', u'annual', u'ano', u'anorexia', u'anoth', u'ansari', u'answer', u'anthem', u'anti', u'antiqu', u'antitour', u'antiworldtour', u'anus', u'anxieti', u'anybodi', u'anymor', u'anyon', u'anyth', u'anytim', u'anyway', u'anywher', u'aomg', u'apolog', u'app', u'appar', u'appear', u'appl', u'applaud', u'appli', u'applicat', u'appoint', u'appreci', u'approach', u'appropri', u'apr', u'april', u'april18', u'april19', u'april23rd', u'aqha', u'aquarius', u'arb', u'arbor', u'arc', u'architect', u'arden', u'are', u'area', u'aren', u'arena', u'arent', u'argo', u'argu', u'argument', u'ariana', u'arianna', u'arizona', u'arm', u'armadabookcontest', u'armenia', u'armi', u'arnett', u'around', u'arrang', u'arrest', u'arriv', u'arrog', u'arsenal', u'art', u'articl', u'artist', u'as', u'asap', u'asfcc', u'ash', u'ashton', u'asic', u'ask', u'askgaryv', u'askgaryve', u'asleep', u'asmsg', u'aspir', u'ass', u'assassin', u'assassinscre', u'assault', u'asset', u'asshol', u'assist', u'asst', u'assum', u'assumpt', u'assur', u'astrolog', u'astronaut', u'at', u'ate', u'athen', u'athlet', u'atl', u'atlanta', u'atmospher', u'attach', u'attack', u'attawapiskat', u'attend', u'atti', u'attitud', u'attract', u'auburn', u'auction', u'audaci', u'auditorium', u'augustina', u'auspol', u'austin316', u'australian', u'author', u'autism', u'automat', u'automot', u'autopsi', u'autosport', u'aux', u'avail', u'averag', u'avert', u'avoid', u'aw', u'awak', u'awaninew', u'awar', u'award', u'away', u'awe', u'awesom', u'awk', u'awww', u'axidilla', u'aye', u'ayie', u'ayoo', u'ayyy', u'ayyyyy', u'az', u'b29', u'b2k', u'b5', u'babe', u'babi', u'babila', u'baby_soul', u'babygirl', u'babysit', u'bachelor', u'back', u'backboard', u'backstag', u'bacon', u'bad', u'badass', u'badg', u'bae', u'bag', u'bagholderquot', u'bail', u'bailey', u'bain', u'bake', u'balenciaga', u'ball', u'ballon', u'balm', u'bambam', u'bamboo', u'ban', u'banana', u'band', u'bang', u'bangtanboy', u'bank', u'bankrol', u'banksrc', u'bankster', u'bar', u'barack', u'barbershop', u'barbershopthenextcut', u'barcelona', u'barclay', u'baro', u'baromet', u'barracuda', u'base', u'basebal', u'baseballneversleep', u'basic', u'basketbal', u'bat', u'batb', u'bater', u'bathroom', u'batman', u'battl', u'bay', u'bb', u'bbc', u'bbmas', u'bc', u'bday', u'bdsm', u'be', u'beach', u'beachbodi', u'beachgoer', u'beagleboard', u'beaglebon', u'beam', u'bean', u'bear', u'beard', u'bearden', u'beast', u'beat', u'beaugainvillea', u'beauti', u'beaverterritori', u'beaverton', u'bebe', u'becam', u'becaus', u'becom', u'bed', u'bedrock', u'bee', u'beef', u'been', u'beer', u'beerpictur', u'beerporn', u'befor', u'beforehand', u'beg', u'begin', u'behalf', u'behav', u'behavior', u'behaviour', u'behind', u'bekepjepang', u'believ', u'bella', u'bellinghamtolosangel', u'belmont', u'ben', u'benedict', u'benefit', u'berger', u'berni', u'berniehillaryromcom', u'bernieistoast', u'besid', u'besmirch', u'beso', u'best', u'bestfriend', u'bet', u'beta', u'bethediffer', u'bethel', u'bett', u'better', u'between', u'beverlycleari', u'beyonc', u'beyond', u'bf', u'bff', u'bgc15', u'bi', u'bibchat', u'bid', u'biden', u'bieber', u'big', u'bigass', u'bigbang', u'bigbanglik', u'bigger', u'biggest', u'bikers4trump', u'bill', u'billboard', u'billi', u'billion', u'billionair', u'bind', u'binni', u'bio', u'biosteel', u'birth', u'birthday', u'birther', u'biscuit', u'bishop', u'bit', u'bitch', u'bitwin', u'biweek', u'bizal', u'bkstg', u'black', u'blackcatsmatt', u'blackmaleachiev', u'blackout', u'blackpanth', u'blame', u'blank', u'blasio', u'blast', u'blatant', u'blenheim', u'bless', u'blind', u'bling', u'blink', u'bliss', u'block', u'blockad', u'blog', u'blond', u'blood', u'bloom', u'bloomin', u'bloss', u'blossom', u'blotter', u'blow', u'blown', u'blue', u'blueberri', u'bmw', u'bnt', u'bo', u'bo1', u'board', u'boardgam', u'bobbi', u'bobblehead', u'bodi', u'bodybuild', u'boe', u'bokep', u'bokepindo', u'bold', u'bonafid', u'bond', u'bone', u'bonner', u'bono', u'bonus', u'boo', u'book', u'bookboost', u'bookish', u'boost', u'booti', u'boredom', u'born', u'borrow', u'borsi', u'boss', u'bot', u'both', u'bother', u'bottl', u'bottom', u'bought', u'boulez', u'bounc', u'bouqlov', u'bout', u'bouta', u'boutiqu', u'bow', u'bowi', u'bowl', u'box', u'boy', u'boyfriend', u'boypamamanhikan', u'bp', u'bpi', u'brace', u'bracket', u'braid', u'brain', u'branch', u'brand', u'brandi', u'brandon', u'bravo', u'brb', u'breadwinn', u'break', u'breakfast', u'breakthrough', u'breast', u'breath', u'breed', u'brevard', u'brew', u'brian', u'briana', u'briberi', u'brief', u'brightest', u'brilliant', u'bring', u'bringbackthebe', u'brisei', u'british', u'britney', u'brito', u'bro', u'broad', u'broadcast', u'broadway', u'brodi', u'broke', u'brookfield', u'bros', u'brother', u'brought', u'brown', u'browser', u'bruh', u'bryant', u'bsc', u'bt', u'btob', u'bts', u'bts_festa', u'bts_festa_', u'btw', u'buchholz', u'buckl', u'bucsoci', u'bud', u'buddhainatrafficjam', u'buddi', u'bug', u'build', u'buka', u'bulimia', u'bullet', u'bulli', u'bullshit', u'bullysong', u'bumper', u'bunch', u'bunkergroov', u'burger', u'burgundi', u'burn', u'burri', u'burt', u'bus', u'busi', u'businesstip', u'bust', u'but', u'butter', u'buttercup', u'button', u'buy', u'by', u'bye', u'byecorn', u'ca', u'cabl', u'cach', u'caci', u'cage', u'calendar', u'california', u'call', u'calli', u'calm', u'calum', u'came', u'camel', u'camera', u'camila', u'camp', u'campaign', u'campnanowrimo', u'campus', u'camscor', u'can', u'canada', u'canadian', u'cancel', u'cancer', u'candi', u'candid', u'candlelit', u'canelapura', u'cangeotalk', u'canon', u'cant', u'canva', u'cap', u'caparison', u'capit', u'capt', u'captain', u'captainamericacivilwar', u'caption', u'captur', u'car', u'card', u'cardigan', u'cardio', u'care', u'career', u'carer', u'carey', u'carmella', u'carmen', u'carpet', u'carri', u'carson', u'carter', u'case', u'cash', u'cast', u'casual', u'cat', u'catalan', u'catch', u'cathcart', u'catsofinstagram', u'caus', u'cav', u'cavshawk', u'caylen', u'cbma', u'cd', u'cda', u'ce', u'ceas', u'cedar', u'celana', u'celebr', u'cell', u'cena', u'cent', u'centauri', u'centenni', u'center', u'ceo', u'ceremoni', u'certain', u'certifi', u'cest', u'cge', u'ch', u'chain', u'chainsmok', u'chair', u'challeng', u'chamber', u'champ', u'champion', u'championship', u'chan', u'chanc', u'chandra', u'chanel', u'chang', u'changelog', u'channel', u'chant', u'chanwoo', u'charact', u'charg', u'chariti', u'charli', u'charlott', u'charon', u'charteroak', u'chase', u'chaser', u'chat', u'cheap', u'cheat', u'check', u'checkbook', u'checkout', u'cheek', u'cheerlead', u'chees', u'cheesecak', u'cheetah', u'chef', u'chelsea', u'chemistri', u'cheney', u'cherri', u'chesnat', u'chest', u'chevrolet', u'chicago', u'chick', u'chicken', u'chief', u'chihuahua', u'child', u'children', u'chili', u'chill', u'chillin', u'chines', u'chiraq', u'cho', u'chocol', u'choic', u'choiseunghyunlik', u'choke', u'choos', u'choosecruz', u'chore', u'choreographi', u'chose', u'chow', u'chris', u'christ', u'christian', u'christma', u'christmas2016countdown', u'chrisyoung', u'chubbi', u'chuckl', u'chue', u'chukka', u'church', u'ciara', u'cigarello', u'cigarett', u'cinderella', u'cinemacon', u'circumfer', u'citationpractic', u'citezen', u'citi', u'citizen', u'citizenship', u'cjia', u'cl', u'clacton', u'claim', u'clair', u'clank', u'clap', u'clark', u'class', u'classic', u'classiccar', u'clda', u'clean', u'cleanpow', u'cleanup', u'clear', u'clexa', u'click', u'clickbait', u'client', u'climat', u'climatechang', u'climb', u'clinton', u'clip', u'clock', u'clone', u'close', u'closer', u'closet', u'cloth', u'cloud', u'clow', u'clown', u'cloyd', u'club', u'clutch', u'cnblue', u'cnn', u'co', u'co2', u'coa', u'coach', u'coachella', u'coalit', u'coast', u'cocki', u'cocoa', u'coconut', u'code', u'coffe', u'coffeescript', u'coi', u'coincid', u'cold', u'cole', u'coleton', u'collaps', u'collar', u'collect', u'colleg', u'collegelif', u'colli', u'color', u'colorado', u'colordotz', u'come', u'comedi', u'comerica', u'comfort', u'comm', u'commenc', u'comment', u'commerci', u'commiss', u'committe', u'common', u'communi', u'communic', u'communion', u'communiti', u'compani', u'compar', u'complet', u'complic', u'compos', u'compromis', u'comput', u'concept', u'concern', u'concert', u'condit', u'condom', u'cone', u'conf', u'confer', u'confid', u'confirm', u'confus', u'congrat', u'congratul', u'connect', u'connecticut', u'conni', u'connor', u'conqueror', u'conscienc', u'conserv', u'conservat', u'consid', u'consider', u'consist', u'conspiraci', u'constant', u'construct', u'consum', u'contact', u'content', u'contentmarket', u'contest', u'continu', u'contour', u'contradictori', u'control', u'controversi', u'convent', u'convert', u'cook', u'cooker', u'cooki', u'cool', u'coom', u'cop', u'copi', u'copper', u'coptic', u'coretemp', u'corey', u'cori', u'corndogr6_fpv', u'corner', u'corpor', u'correct', u'corvett', u'corygardn', u'cosmic', u'cost', u'costum', u'cotton', u'cough', u'could', u'couldn', u'coulson', u'council', u'count', u'countdown', u'counteract', u'counti', u'countri', u'coupl', u'coupon', u'cours', u'court', u'cousin', u'cover', u'cp9', u'cpeslearningfun', u'cr', u'crab', u'crack', u'craft', u'craftbeer', u'craig', u'crane', u'crash', u'crave', u'craw', u'crawfish', u'crawl', u'crazi', u'crazier', u'craziest', u'cream', u'creat', u'creativ', u'creator', u'creed', u'creek', u'creep', u'creepi', u'crelm', u'crest', u'crew', u'cri', u'crib', u'cric', u'criedmi', u'cring', u'crisi', u'cristiano', u'critic', u'crookedberni', u'crop', u'cross', u'crosstown', u'crowd', u'crowdfir', u'cruel', u'crunch', u'crush', u'cruso', u'crust', u'cruz', u'cryig', u'cryinf', u'crystal', u'csn', u'cst', u'csustrik', u'cub', u'cudd', u'cuddl', u'cultur', u'cum', u'cumberbatch', u'cumshow', u'cumulonimbus', u'cure', u'curious', u'current', u'curs', u'cus', u'custom', u'customfit', u'cut', u'cute', u'cutest', u'cuti', u'cuz', u'cyber', u'cyborg', u'cycl', u'cyrus', u'd810', u'da', u'daaayyyi', u'dad', u'dadd', u'daddi', u'daeneri', u'daesh', u'dagashi', u'daili', u'dailysketch', u'daiquiri', u'dammit', u'damn', u'dan', u'danc', u'dancehal', u'dang', u'danger', u'daniel', u'dap', u'dark', u'darryl', u'data', u'date', u'daughter', u'dave', u'david', u'day', u'dayum', u'dbz', u'dc', u'dccomic', u'de', u'dead', u'deal', u'dear', u'death', u'debat', u'debut', u'decad', u'decid', u'declin', u'decoti', u'dedic', u'deep', u'def', u'defeat', u'defeatist', u'defens', u'definit', u'degre', u'dekalb', u'delay', u'deleg', u'delet', u'delight', u'deliv', u'delusion', u'dem', u'demarcus', u'demi', u'democraci', u'democracyspr', u'dempeo', u'denial', u'dental', u'dentin', u'dentur', u'denzel', u'depart', u'depend', u'deploy', u'depress', u'depriv', u'depth', u'derek', u'deserv', u'desi', u'design', u'desir', u'desol', u'despis', u'despit', u'dessert', u'destin', u'destini', u'destroy', u'detail', u'devast', u'develop', u'devic', u'devil', u'devis', u'devop', u'dew', u'dey', u'diagon', u'dick', u'didn', u'didnt', u'die', u'dietmar', u'differ', u'difficult', u'dig', u'digit', u'digniti', u'dildo', u'dillon', u'dime', u'dimens', u'dini', u'dinner', u'dir', u'direct', u'direction', u'director', u'dirti', u'dis', u'disabl', u'disappear', u'disappoint', u'disappont', u'disast', u'discount', u'discoveri', u'discreet', u'discuss', u'disgust', u'dish', u'dishonesti', u'dislik', u'disney', u'disneyland', u'disneysid', u'disord', u'display', u'dispromo', u'district', u'disturb', u'ditka', u'dive', u'diversifi', u'divina', u'divorc', u'dj', u'djxndjsnx', u'dm', u'dms', u'dna', u'do', u'doberman', u'doctor', u'doctorstrang', u'document', u'dodg', u'dodgi', u'doe', u'doer', u'doesn', u'doesnt', u'dog', u'dogsit', u'doh', u'doin', u'doitforst', u'dolantwinsontour', u'dolceamorethebigev', u'dome', u'domest', u'donald', u'donat', u'done', u'dont', u'door', u'dop', u'dope', u'dora', u'dori', u'dose', u'dotz', u'doubl', u'doug', u'dove', u'down', u'download', u'downtim', u'downtown', u'doy', u'dr', u'draft', u'dragon', u'drama', u'dramat', u'drastic', u'draw', u'drawn', u'dream', u'dreamhom', u'dreamt', u'dredd', u'dress', u'drew', u'dri', u'driftwood', u'drill', u'drink', u'drinkloc', u'drive', u'driver', u'droolin', u'drop', u'drove', u'drug', u'drugstor', u'drunk', u'dub', u'duck', u'duckl', u'duckprint', u'dude', u'dudeit', u'due', u'duel', u'dug', u'dumb', u'dumbass', u'dump', u'dunk', u'dure', u'dutc', u'dutch', u'duti', u'dvds', u'dylan', u'each', u'eager', u'eagl', u'ear', u'earli', u'earlier', u'earn', u'eart', u'earth', u'easili', u'east', u'easter', u'eat', u'eaten', u'eazi', u'ebay', u'eben', u'eccc2016', u'ecig', u'ecj', u'economi', u'economist', u'ed', u'eddi', u'edg', u'edit', u'editor', u'editori', u'edon', u'edt', u'educ', u'edward', u'edwardkenway', u'ee', u'ee11', u'eeyor', u'effect', u'egg', u'egyptian', u'eh', u'either', u'ejuic', u'el', u'elb', u'elect', u'elector', u'electr', u'eleg', u'elementari', u'elig', u'elit', u'elizabeth', u'els', u'elvierecald', u'em', u'email', u'embrac', u'embrass', u'emerg', u'emili', u'emma', u'emoji', u'emot', u'emperor', u'empir', u'employ', u'employe', u'empti', u'en', u'encount', u'end', u'endalz', u'endless', u'endodont', u'endors', u'ene', u'energi', u'eng', u'engag', u'engin', u'english', u'enjoy', u'enlighten', u'enlist', u'enorm', u'enough', u'enter', u'enterpris', u'entertain', u'entiali', u'entir', u'entitl', u'entrepreneur', u'entrepreneurship', u'entri', u'environ', u'environment', u'ep', u'epa', u'ephesian', u'epilepsi', u'episod', u'equal', u'equalpay', u'equalpay4wib', u'equalpayday', u'equat', u'er', u'erdogan', u'erebus', u'eric', u'erotica', u'erpestar', u'erupt', u'erykah', u'es6', u'esb', u'eski', u'eskie_spitz', u'eskielif', u'eskiesofinstagram', u'esp', u'especi', u'espn', u'essay', u'essenti', u'est', u'estim', u'etc', u'etern', u'ethan', u'ethandolan', u'eureka', u'europ', u'european', u'eva', u'evaamurri', u'eve', u'even', u'event', u'eventu', u'ever', u'everi', u'everlast', u'every1', u'everybodi', u'everyday', u'everyon', u'everyth', u'everytim', u'evid', u'ex', u'exact', u'exam', u'examin', u'exampl', u'except', u'excit', u'exclus', u'excus', u'exec', u'exhaust', u'exhibit', u'exist', u'exit', u'exo', u'exp', u'expand', u'expans', u'expect', u'expens', u'experi', u'expert', u'explain', u'exploit', u'explor', u'express', u'extens', u'extern', u'extra', u'extraordinari', u'extrem', u'eye', u'eyebrow', u'eyelash', u'eyelin', u'f8', u'fabul', u'face', u'facebook', u'facebookfree4al', u'facebooklandia', u'facetim', u'facil', u'fact', u'factori', u'fade', u'faggot', u'fail', u'faint', u'fairi', u'faith', u'fake', u'fall', u'fallin', u'falsioni', u'fam', u'fame', u'famili', u'famous', u'fan', u'fancam', u'fandom', u'fantast', u'fanzin', u'far', u'farm', u'farragut', u'fashion', u'fast', u'fat', u'fatal', u'fate', u'father', u'fatman', u'fauerbach', u'fav', u'fave', u'favor', u'favorit', u'favourit', u'fb', u'fccps', u'fcked', u'fdr', u'feasibl', u'feast', u'feat', u'featur', u'fec', u'feder', u'fee', u'feedback', u'feedthehungri', u'feel', u'feelin', u'feelthebern', u'feelthefact', u'feet', u'fella', u'fellow', u'felt', u'femal', u'femin', u'femur', u'fernandez', u'ferryboat', u'fetch', u'fetich', u'feticheclub', u'few', u'ffs', u'fi', u'fiber', u'fiberframetm', u'fiction', u'fifth', u'fiftyshadesoffuckyou', u'fight', u'fighter', u'figur', u'fil', u'file', u'fill', u'film', u'final', u'financ', u'financi', u'find', u'fine', u'finer', u'finger', u'finish', u'finn', u'finna', u'fire', u'firesid', u'firm', u'firmlygraftedin', u'first', u'fish', u'fist', u'fit', u'five', u'fix', u'fla', u'flag', u'flannel', u'flashback', u'flashbck', u'flat', u'flew', u'flex', u'fli', u'flight', u'flinch', u'flip', u'float', u'floof', u'floor', u'flora', u'floral', u'florida', u'floridakey', u'flour', u'flowchart', u'flower', u'flowin', u'flu', u'fluent', u'fluorit', u'flyknit', u'foam', u'focus', u'foh', u'foi', u'folder', u'folk', u'follow', u'followmecollin', u'fond', u'fontana', u'food', u'foodlif', u'fool', u'footag', u'for', u'forc', u'forecast', u'foreign', u'foreman', u'forev', u'forevermyshit', u'foreverwarrior', u'forget', u'forgiv', u'forgiven', u'forgot', u'forgotten', u'forkingandcountri', u'form', u'fornic', u'forrest', u'fort', u'fortaleza', u'forth', u'forthemostbeauti', u'forward', u'foto', u'fotoflex', u'found', u'four', u'fox', u'fr', u'frame', u'franc', u'frank', u'fraud', u'freak', u'fredbound', u'freddi', u'free', u'freelanc', u'freeradio', u'freez', u'fresh', u'freshman', u'fri', u'frick', u'friday', u'friend', u'from', u'front', u'frozen', u'frustrat', u'fsa', u'fssafari', u'fsspa', u'ft', u'ftl', u'fuck', u'fuckboy', u'fucker', u'fuckin', u'fucktard', u'fuckthatsdelici', u'fuel', u'fugazi', u'fukuhara', u'fukuoka', u'full', u'fun', u'function', u'fund', u'funfactoftheday', u'funni', u'funniest', u'furtado', u'further', u'furycoulson', u'futur', u'futurist', u'fw', u'fxck', u'fyi', u'g930', u'g935', u'gabbi', u'gabl', u'gag', u'gahd', u'gail', u'gain', u'galaxi', u'gald', u'galleri', u'game', u'gamesssss', u'gandhi', u'gank', u'gap', u'garbag', u'garden', u'gari', u'garment', u'gas', u'gat', u'gate', u'gatorad', u'gaugl', u'gave', u'gay', u'gazett', u'geauxcajun', u'geek', u'gees', u'gender', u'general', u'generat', u'generatelead', u'generous', u'geni', u'genius', u'gentleman', u'geoengin', u'geoff', u'georg', u'georgia', u'gerald', u'gerbil', u'germani', u'gerom', u'get', u'getit', u'gettingbettersoon', u'gf', u'gfsa', u'gherbo', u'ghetto', u'ghost', u'ghype', u'giant', u'gift', u'gilinski', u'gimm', u'gir', u'girl', u'girlfriend', u'give', u'giveaway', u'given', u'givin', u'gl', u'glacier', u'glad', u'glamour', u'glasgow', u'glass', u'gleichbleibend', u'glenn', u'glimps', u'glitter', u'glo', u'global', u'globalspin365', u'gloria', u'glowi', u'gm', u'go', u'goal', u'goalscod', u'god', u'goddamn', u'godfath', u'godslovechat', u'goe', u'goent', u'golazooo', u'gold', u'golden', u'goldman', u'golf', u'gomez', u'gon', u'gone', u'gonna', u'good', u'goodby', u'goodmorn', u'goodnight', u'goodread', u'gop', u'gorgeous', u'gosh', u'gospel', u'got', u'gota', u'gotchu', u'gotham', u'gotta', u'gotten', u'gotv', u'gov', u'govern', u'governor', u'gpa', u'gps', u'grab', u'grace', u'graci', u'grade', u'graduat', u'gram', u'grand', u'granddog', u'grandmoth', u'grandpa', u'grandrapid', u'granit', u'grant', u'graph', u'grassroot', u'grate', u'gratifi', u'grave', u'graviti', u'gray', u'grayson', u'great', u'greatest', u'greec', u'greek', u'green', u'greer', u'greta', u'grey', u'grid', u'griffith', u'grill', u'grillicheesesandwich', u'grind', u'grip', u'grizz', u'gross', u'ground', u'group', u'grow', u'grown', u'growth', u'grump', u'gs', u'gsg', u'gsxr750', u'gt', u'gta', u'guarante', u'guard', u'guerrillad', u'guess', u'guest', u'guid', u'guillori', u'guinever', u'guisado', u'gummi', u'gump', u'gun', u'gunna', u'gunskil', u'gurus', u'gust', u'guy', u'gv', u'gwen', u'gyal', u'gym', u'gyrospher', u'gyudon', u'h21', u'h2o', u'habit', u'habitud', u'hacker', u'had', u'haden', u'hadn', u'haeger', u'haezar', u'hage', u'haha', u'hahaha', u'hahahaha', u'hahahahah', u'hai', u'hail', u'hair', u'haircut', u'hairstyl', u'hak', u'hala', u'halamadrid', u'half', u'halfway', u'hall', u'hallelujah', u'halsey', u'halter', u'hammer', u'hamper', u'hanaskul', u'hand', u'handi', u'handl', u'hang', u'hann', u'happen', u'happi', u'happysehunday', u'harbaugh', u'hard', u'harddd', u'harder', u'harley', u'harmless', u'harmoni', u'harri', u'harrypott', u'hart', u'has', u'hashtag', u'hat', u'hatchback', u'hate', u'haul', u'have', u'haven', u'hawaii', u'hawk', u'hazem', u'hbo', u'hc', u'hd', u'hd60', u'he', u'head', u'header', u'heal', u'health', u'healthcar', u'healthi', u'hear', u'heard', u'heart', u'heartbroken', u'heartless', u'heat', u'heath', u'heaven', u'heavili', u'heavyyyyyy', u'hebrew', u'hedleyhellotour2016', u'heh', u'hehe', u'heighten', u'hell', u'hella', u'hello', u'hellotoday', u'hellovenus', u'help', u'hem', u'hemet', u'henni', u'her', u'here', u'hereiam', u'hero', u'herself', u'hes', u'hey', u'heyfranheysunday', u'heyyyi', u'hgtv', u'hhs', u'hi', u'hidden', u'hide', u'high', u'highcut', u'higher', u'highest', u'highlight', u'hight', u'hilari', u'hill', u'hillari', u'hillarysoqualifi', u'hilly', u'him', u'himself', u'hind', u'hippi', u'hire', u'his', u'hispan', u'histor', u'histori', u'hit', u'hitter', u'hmmmm', u'hndr', u'ho', u'hobbi', u'hockey', u'hoe', u'hogg', u'hold', u'holi', u'holler', u'holli', u'holliday', u'hollywood', u'holm', u'holocaust', u'hologram', u'home', u'homeland', u'homework', u'homi', u'honest', u'honesti', u'honey', u'hong', u'honor', u'hoodi', u'hook', u'hookup', u'hoooo', u'hop', u'hope', u'horan', u'horni', u'horribl', u'horror', u'hors', u'hoshizorarin', u'hospit', u'host', u'hot', u'hotfix', u'hotlin', u'hotrid', u'hottest', u'hour', u'hous', u'household', u'houston', u'how', u'howl', u'hpa', u'hq', u'hr', u'hs', u'hsbc', u'hsmai', u'ht', u'htc', u'htt', u'http', u'https', u'hug', u'huge', u'hugh', u'huhuh', u'human', u'humid', u'humor', u'hung', u'hungri', u'hunnit', u'hunt', u'hunter', u'hurt', u'husband', u'hush', u'hussein', u'hw', u'hwa', u'hybrid', u'hype', u'hypochondriac', u'hyung', u'i9100', u'i9300', u'iabctochat', u'iac', u'ian', u'iartg', u'ib', u'ibm', u'ice', u'icecream', u'iceland', u'icon', u'ict', u'icymi', u'id', u'idbelostifilost', u'idc', u'idea', u'ideal', u'idioci', u'idk', u'if', u'ignor', u'iheartaward', u'ii', u'iii', u'ik', u'ili', u'ill', u'illustr', u'ilysm', u'im', u'ima', u'imag', u'imagin', u'img_9646', u'immigr', u'impact', u'impactonpop', u'implant', u'implement', u'implic', u'import', u'imposs', u'impress', u'impression', u'improv', u'imwithh', u'in', u'inact', u'inadvert', u'incest', u'inch', u'includ', u'inconnu', u'inconsider', u'inconveni', u'incred', u'incredu', u'indi', u'india', u'indiana', u'indieauthor', u'indispens', u'individu', u'induc', u'industri', u'indycar', u'indyriv', u'inevit', u'infect', u'influenc', u'info', u'infograph', u'inform', u'ing', u'injur', u'injuri', u'ink', u'inmypanti', u'innat', u'inner', u'inning', u'innoc', u'innov', u'inow', u'insecur', u'insid', u'insight', u'insomnia', u'insomniac', u'inspect', u'inspir', u'insta', u'instagram', u'instal', u'instamoto', u'instead', u'instinct', u'instruct', u'int', u'integr', u'intellig', u'intend', u'intens', u'interest', u'intern', u'internet', u'internship', u'intersect', u'interstiti', u'interveiw', u'interview', u'inthehous', u'intim', u'into', u'intramur', u'introvertproblem', u'invent', u'invest', u'investig', u'investor', u'invis', u'invit', u'invoic', u'involv', u'iodin', u'ion', u'ip', u'ipad', u'iphon', u'ir', u'iraq', u'irina', u'irish', u'irrelev', u'irrit', u'is', u'isa', u'isabel', u'ish', u'isi', u'islam', u'island', u'isn', u'isol', u'israel', u'issa', u'issu', u'it', u'item', u'ittttt', u'ive', u'iwaizumi', u'jackson', u'jaehyun', u'jai', u'jail', u'jakarta', u'jam', u'jamaica', u'jame', u'japan', u'japanes', u'japansolotour', u'jason', u'jaw', u'jawlin', u'jay', u'jayhawk', u'jc', u'jd', u'jdu', u'jealous', u'jean', u'jennif', u'jerk', u'jersey', u'jesus', u'jew', u'jewel', u'jiffi', u'jiggi', u'jim', u'jimin', u'jimisha', u'jimmi', u'jin', u'jingoist', u'jingoo', u'jive', u'jjba', u'jln', u'jmo', u'job', u'jodi', u'joey', u'john', u'johnni', u'johnson', u'join', u'joke', u'jone', u'jonrappoport', u'jooheon', u'joong', u'jordi', u'jose', u'journal', u'journalist', u'journey', u'jst', u'jude', u'judg', u'judgement', u'judgment', u'juic', u'juli', u'julien', u'julius', u'jump', u'june', u'jung', u'jungl', u'junior', u'jurassicpark', u'jus', u'just', u'justdylwithit', u'justic', u'justin', u'juuust', u'jww3', u'ka', u'kahata', u'kahneman', u'kaiseki', u'kane', u'kanto', u'kappa', u'kardashian', u'karen', u'karmein', u'kasayan', u'kashi', u'kasich', u'katch', u'kate', u'kati', u'kaya', u'kayak', u'kd', u'keegan', u'keen', u'keenan', u'keep', u'keeppush', u'kellen', u'kelli', u'ken', u'kendrick', u'kengo', u'kenna', u'kennesaw', u'kentarooooo', u'kentucki', u'kenway', u'kept', u'kevin', u'key', u'keynot', u'ki', u'kick', u'kickoff', u'kid', u'kill', u'killer', u'kim', u'kimmel', u'kin', u'kind', u'kinda', u'kindleunlimit', u'king', u'kinki', u'kinsley', u'kiss', u'kit', u'kitchen', u'kiwi', u'kkh', u'kki', u'kkspring16', u'klamath', u'km', u'knee', u'kneel', u'knew', u'knickknack', u'knit', u'knock', u'know', u'known', u'koba', u'kobe', u'kokum', u'kong', u'korea', u'korean', u'kot', u'kourt', u'kourtney', u'krasinski', u'kris', u'kristen', u'kriswu', u'kts', u'kuch', u'kuma', u'kumavancouv', u'kundasang', u'kura', u'kwk', u'kwon', u'kwt', u'kyla', u'kylemartino', u'kyli', u'kyuhyun', u'l85', u'l96', u'la', u'label', u'labeouf', u'labor', u'labour', u'ladi', u'lag', u'lamar', u'lambdaconf', u'lame', u'lamott', u'land', u'lane', u'languag', u'lap', u'laptop', u'larg', u'largefear', u'largest', u'larri', u'las', u'laser', u'last', u'late', u'later', u'latest', u'lauderdalehollywood', u'laugh', u'laughin', u'laughinf', u'laundri', u'laundromat', u'lauren', u'law', u'lay', u'layer', u'lbs', u'lcd', u'lcs', u'lcsbigplay', u'lead', u'leader', u'leadership', u'leagu', u'leagueoflegend', u'leak', u'lean', u'learn', u'least', u'leather', u'leav', u'led', u'ledger', u'lee', u'leed', u'left', u'leg', u'legend', u'legendari', u'legisl', u'leisur', u'lemm', u'lemon', u'len', u'lenni', u'leo', u'leonid', u'les', u'less', u'letsfreakinggoooo', u'letter', u'level', u'leveson', u'levi', u'lewat', u'lexa', u'lft', u'lgm', u'lhhatl', u'liam', u'liar', u'liarberni', u'liarjan', u'liber', u'libra', u'librari', u'libya', u'licenc', u'lie', u'life', u'lifeintheair', u'lifestyl', u'light', u'lighthous', u'like', u'lil', u'lili', u'lima', u'limit', u'limp', u'lindor', u'lindsey', u'line', u'link', u'linkedin', u'lion', u'lip', u'list', u'listen', u'lit', u'liter', u'littl', u'littlebigshot', u'live', u'livecam', u'livestock', u'lizard', u'lmage', u'lmao', u'lmaoo', u'lmfao', u'lmfaoooo', u'lmu', u'lnyhbt', u'load', u'loaf', u'loan', u'lobster', u'local', u'locat', u'lock', u'lockscreen', u'logic', u'login', u'logist', u'logo', u'lol', u'lola', u'london', u'loneli', u'long', u'longer', u'longest', u'look', u'lookin', u'loool', u'looool', u'loop', u'loos', u'lorain', u'lord', u'lose', u'loser', u'loss', u'lost', u'lot', u'loud', u'loui', u'louisiana', u'loung', u'lov', u'lovato', u'love', u'lovehimso', u'lovel', u'lover', u'lovetwitt', u'low', u'lowkey', u'loyal', u'loyalti', u'lpt2', u'lrc', u'lt', u'lube', u'lucif', u'luck', u'lucki', u'luke', u'lullabi', u'lunch', u'lunchmeat', u'lutyen', u'luv', u'luxuri', u'ly', u'lyme', u'm8', u'ma', u'macedonia', u'machin', u'machineri', u'maci', u'mackenyu', u'macselena', u'mad', u'madcow', u'maddi', u'maddilink', u'made', u'madrid', u'madridista', u'mafia', u'maga', u'magazin', u'magconseatt', u'magic', u'magnifi', u'mahal', u'mail', u'main', u'maintain', u'major', u'makav', u'make', u'makeamericagreatagain', u'maker', u'makeup', u'makna', u'malaysia', u'male', u'mall', u'mallet', u'mallex', u'mama', u'mambaday', u'man', u'manado', u'manag', u'manda', u'manezel', u'mango', u'manhattan', u'mani', u'manicur', u'manifest', u'manziel', u'map', u'maratona', u'marbek', u'march', u'mare', u'margarita', u'margin', u'margot', u'mari', u'mariah', u'marijuana', u'mark', u'market', u'markson', u'marl', u'marlboro', u'marlowema', u'marri', u'marvel', u'marxism', u'marxist', u'maryland', u'mascot', u'mash', u'mask', u'masri', u'massiv', u'master', u'masturb', u'match', u'matchup', u'mate', u'materialist', u'math', u'mathewmccaughey', u'mathieu', u'matter', u'matthew', u'mattson', u'mauri', u'mauric', u'mav', u'max', u'may', u'mayb', u'mb', u'mbf', u'mcconaughey', u'mcdonald', u'mckenna', u'mcloud', u'md', u'md531ll', u'me', u'mean', u'meant', u'meantim', u'measur', u'meat', u'media', u'medic', u'mediocr', u'meek', u'meet', u'megan', u'mel', u'melt', u'melti', u'melvill', u'member', u'membership', u'memo', u'memori', u'memphi', u'men', u'mendoza', u'meng', u'mensa', u'mental', u'mention', u'merchandis', u'merchant', u'meredith', u'merica', u'mermaid', u'mess', u'messag', u'mesum', u'met', u'metal', u'metallica', u'meter', u'method', u'metr', u'metric', u'metro', u'mf', u'mfs', u'mga', u'mgm', u'mi', u'miami', u'michael', u'michigan', u'mid', u'midday', u'middl', u'midufinga', u'might', u'miguel', u'mike', u'miku', u'mile', u'miley', u'milf', u'milfieclub', u'milfmafia', u'milit', u'militari', u'milk', u'mill', u'miller', u'million', u'min', u'mind', u'mindless', u'mindset', u'mine', u'mini', u'minimalist', u'minimum', u'minor', u'minus', u'minut', u'miracl', u'mis', u'misplacedang', u'miss', u'mission', u'mississippi', u'mistak', u'mitchel', u'mix', u'mixtap', u'mixtur', u'mjotw2016', u'mlbg', u'mm', u'mmmmmmmmmmmmmm', u'mn', u'mnselect', u'mo', u'mobil', u'mobin', u'mock', u'mockingbird', u'mod', u'mode', u'model', u'moleg', u'mom', u'moment', u'momma', u'mommi', u'momomo', u'mon', u'mond', u'monday', u'money', u'monitor', u'monstax', u'monster', u'monstress', u'montana', u'month', u'monument', u'mood', u'moon', u'moral', u'mordr', u'more', u'moreee', u'morn', u'morninggg', u'morrison', u'mortalins_rp', u'most', u'mother', u'motiv', u'motorcycl', u'mound', u'mount', u'mourn', u'mous', u'mouth', u'move', u'movi', u'mozservic', u'mp', u'mph', u'mr', u'mro', u'mrs', u'ms', u'msg', u'mtvstar', u'muahhh', u'much', u'mufc', u'multi', u'multitaskin', u'mum', u'mumbai', u'munchkin', u'murder', u'muscadett', u'museum', u'mushroom', u'music', u'musician', u'muslim', u'must', u'mv', u'mvp', u'mxgicaltradesaccgiveaway', u'my', u'myblog', u'mycoplasma', u'myfreecam', u'myself', u'mystifi', u'myth', u'mythmonth', u'na', u'nadia', u'nagpur', u'nah', u'nail', u'nairobi', u'nairobixxx', u'nake', u'name', u'nana', u'nano', u'nap', u'nara', u'narrat', u'nasa', u'nashvill', u'nasti', u'nate', u'nation', u'nationalgrilledcheeseday', u'nationgrilledcheeseday', u'natur', u'naturalfib', u'nave', u'navi', u'nba', u'nct', u'nd', u'ndp', u'ne', u'near', u'necessarili', u'neck', u'nectarin', u'need', u'negoti', u'neighbor', u'neighborhood', u'neighbourhood', u'neither', u'nepal', u'nerd', u'nervous', u'ness', u'net', u'netflix', u'netflixgetbatb', u'network', u'neural', u'neurosci', u'neutral', u'neutralpossiblypessimist', u'nevada', u'never', u'nevertrump', u'new', u'newest', u'newjersey', u'news', u'newyork', u'next', u'nfl', u'nfldraft', u'ngoooooh', u'ngot', u'nhl', u'ni', u'niall', u'nialllll', u'nice', u'nick', u'nicol', u'niec', u'nigga', u'night', u'nike', u'nikon', u'nite', u'niv', u'nj', u'nls', u'nlw16', u'nme', u'nne', u'no', u'no1hungri', u'nobel', u'nobodi', u'nod', u'nois', u'nomin', u'none', u'nonsens', u'noooo', u'nope', u'nor', u'norpoth', u'northern', u'northwest', u'not', u'note', u'notfin', u'noth', u'nothingbeatsgatorad', u'notic', u'nottingham', u'notwithh', u'novel', u'novemb', u'now', u'nowher', u'np', u'nps', u'nra', u'nth', u'nude', u'nuget', u'nugget', u'numb', u'number', u'nun', u'nut', u'nutanix', u'nw', u'nxt', u'ny', u'nyprimari', u'o2', u'oakland', u'obama', u'obamacar', u'oblig', u'observ', u'obsess', u'oc', u'occur', u'ocd', u'ocean', u'och', u'ocstak', u'octob', u'of', u'off', u'offend', u'offens', u'offer', u'offic', u'offici', u'offseaso', u'ohara', u'ohsnap', u'oht', u'oikawa', u'oil', u'ok', u'okay', u'old', u'older', u'oldh', u'ole', u'olic', u'oligarch', u'oliv', u'olivia', u'omar', u'omfg', u'omg', u'omgxhyun', u'oml', u'on', u'onc', u'one', u'onetreehil', u'onher', u'onl', u'onli', u'onlin', u'onlytrump', u'onyx', u'ook', u'oomf', u'oooh', u'op', u'open', u'openingdaystl', u'openstack', u'oper', u'operatori', u'opinion', u'oppon', u'opportun', u'optimus', u'or', u'order', u'orderofthephoenix', u'ore', u'oreo', u'orient', u'origin', u'oriol', u'ortiz', u'oscar', u'other', u'ou', u'our', u'ourhous', u'out', u'outag', u'outcom', u'outer', u'outfit', u'outing', u'outlook', u'outsid', u'outstand', u'outta', u'oven', u'over', u'overhaul', u'overr', u'overwhelm', u'ovipar', u'owe', u'owen', u'own', u'owsley', u'oyster', u'p15', u'pa', u'pac', u'pacer', u'pacertest', u'pack', u'packag', u'page', u'page3classicgirloftheday', u'paid', u'pain', u'paint', u'pair', u'pajama', u'pajamaedit', u'pakistan', u'pakistani', u'pale', u'palestin', u'palooza', u'panacea', u'panama', u'panamapap', u'pancak', u'panda', u'panel', u'panic', u'panti', u'paper', u'paperback', u'papi', u'parad', u'paradigm', u'paradis', u'paranorm', u'parent', u'pari', u'pariti', u'park', u'parker', u'parliament', u'parodi', u'parrysound', u'part', u'parti', u'particl', u'pass', u'passabl', u'passcod', u'passeng', u'passion', u'past', u'pastor', u'pat', u'patel', u'patent', u'pathet', u'patienc', u'patient', u'patrick', u'patriot', u'pattern', u'paul', u'paulryan', u'paus', u'pay', u'paygap', u'paypal', u'pc', u'pck', u'pd', u'pda', u'pdt', u'peac', u'peach', u'peanut', u'peep', u'peic', u'pelicano', u'pelton', u'pencil', u'penetr', u'peopl', u'per', u'percent', u'percentag', u'percept', u'perfect', u'perform', u'performancecent', u'perfum', u'perhap', u'period', u'periscop', u'permiss', u'persecu', u'persian', u'person', u'perspect', u'peshawar', u'pet', u'petrescuestori', u'petti', u'pharma', u'phase', u'phew', u'phhhoto', u'phil', u'phoenix', u'phone', u'phoni', u'photo', u'photograph', u'photographi', u'photoshoot', u'photoshop', u'phxcon', u'physic', u'pic', u'pick', u'picki', u'pickl', u'pictur', u'pie', u'piec', u'pig', u'pill', u'pillow', u'pinch', u'ping', u'pink', u'pioneer', u'pipelin', u'pitbul', u'pitch', u'pizza', u'pjnet', u'pka', u'pl', u'place', u'placement', u'plain', u'plan', u'plane', u'planet', u'planetshak', u'planner', u'plant', u'plastic', u'plasticvill', u'platform', u'platinum', u'play', u'player', u'playin', u'playlist', u'playoff', u'pleas', u'pleasant', u'pleasur', u'pledg', u'plein', u'plenti', u'plot', u'pls', u'plug', u'plumber', u'plung', u'plus', u'pluto', u'plz', u'pm', u'png', u'pocket', u'podcast', u'poem', u'poetri', u'point', u'polic', u'polici', u'politician', u'poll', u'polo', u'pond', u'pong', u'pongua', u'poni', u'pooh', u'pool', u'poon', u'poor', u'pop', u'popcorn', u'popsicl', u'poptart', u'popular', u'poquito', u'porn', u'pornstar', u'portabl', u'portrait', u'portray', u'pose', u'poseidon', u'poshmark', u'posit', u'post', u'postdoc', u'poster', u'postseason', u'pot', u'potato', u'pouch', u'pound', u'pouya', u'power', u'powerhous', u'powerpackag', u'powerpuff', u'pp', u'ppl', u'ppls', u'practic', u'practis', u'prankster', u'pray', u'prayer', u'pre', u'precious', u'precip', u'predat', u'predict', u'preein', u'prefer', u'preform', u'pregnant', u'preheat', u'preorder', u'prep', u'prepar', u'prepper', u'prescott', u'present', u'preserv', u'presid', u'presidenti', u'press', u'pressur', u'pretend', u'pretti', u'preview', u'previous', u'prgirl', u'price', u'priceless', u'primari', u'prime', u'princess', u'princessbuttercup', u'print', u'printer', u'prison', u'privat', u'priyanka', u'prize', u'pro', u'probabl', u'problem', u'process', u'procrastin', u'produc', u'product', u'profession', u'professor', u'profil', u'program', u'programm', u'progress', u'project', u'prolli', u'prom', u'prom2k16', u'promark', u'promis', u'promo', u'promoblast', u'promot', u'pronounc', u'proof', u'propel', u'proper', u'properti', u'propertybroth', u'propos', u'prosecut', u'prospect', u'prosper', u'prostat', u'protect', u'protein', u'protest', u'proud', u'prove', u'proven', u'provid', u'ps2', u'ps4', u'psa', u'psm', u'pssst', u'psycho', u'psycholog', u'psyqo', u'pt', u'ptl', u'pts', u'pub', u'public', u'puck', u'puertorico', u'pulchra', u'pull', u'pump', u'pup', u'puppi', u'purchas', u'pure', u'purpl', u'purposetouratlanta', u'pursuit', u'push', u'pussi', u'put', u'puzzl', u'pvetal', u'pyramid', u'qualif', u'qualiti', u'quarter', u'quarterfin', u'que', u'queen', u'quesalupa', u'question', u'questionforyou', u'quick', u'quit', u'quot', u'r0', u'rabbl', u'race', u'rachel', u'racial', u'rad', u'radio', u'radius', u'radom', u'rain', u'rainfal', u'rainyday', u'rais', u'raisin', u'ralli', u'ralph', u'ralphlauren', u'ram', u'ramona', u'ran', u'random', u'ranger', u'rap', u'rape', u'rapper', u'rare', u'rasool', u'rat', u'ratchet', u'rate', u'rather', u'raur', u'ravin', u'raw', u'rb', u'rbi', u'rcbvsrh', u'reach', u'reaction', u'read', u'readi', u'ready_stitch_go', u'readyyi', u'reagan', u'real', u'realest', u'realist', u'realiti', u'realiz', u'realize', u'realli', u'reason', u'reassur', u'rebel', u'rebound', u'rec', u'recap', u'receipt', u'receiv', u'recent', u'recept', u'recip', u'record', u'recoveri', u'rectangl', u'red', u'redact', u'redd', u'reddi', u'redeem', u'redhead', u'redo', u'redskin', u'redsox', u'reevalu', u'reform', u'refresh', u'refus', u'refut', u'reg', u'regist', u'regret', u'regul', u'regular', u'reincarn', u'reinvent', u'reject', u'relat', u'relationship', u'relax', u'releas', u'religi', u'remark', u'rememb', u'remi', u'remind', u'remix', u'remot', u'remov', u'rental', u'rep', u'repeat', u'repercuss', u'replac', u'replay', u'repli', u'report', u'repost', u'repres', u'represent', u'republican', u'reput', u'request', u'requir', u'research', u'resent', u'reserv', u'resibo', u'resid', u'resili', u'resolv', u'respect', u'respon', u'respond', u'respons', u'rest', u'restaur', u'restock', u'result', u'retard', u'rethink', u'retir', u'return', u'retweet', u'reveng', u'reverber', u'review', u'reviv', u'revolut', u'revolutionari', u'reward', u'rg', u'rhobh', u'rhyme', u'rhythm', u'ri', u'rich', u'richmond', u'rick', u'rickandmorti', u'rickett', u'rickey', u'ride', u'rideasyouar', u'rider', u'ridgeway', u'rifl', u'rig', u'right', u'rihanna', u'riley', u'rim', u'rin', u'ring', u'rip', u'ripmommi', u'rise', u'rishta', u'risk', u'ritchi', u'rivalri', u'river', u'rlli', u'rmucl', u'rn', u'road', u'robbi', u'robinson', u'robot', u'rock', u'rocket', u'rocki', u'rockon', u'rockybalboa', u'roger', u'roll', u'romantic', u'ronald', u'ronaldo', u'ronni', u'roof', u'room', u'roommat', u'root', u'rosarium0214', u'rose', u'rosi', u'ross', u'rosso', u'rothenberg', u'rough', u'round', u'rout', u'row', u'roy', u'rp', u'rub', u'rubber', u'rude', u'rug', u'ruin', u'rule', u'rumour', u'run', u'rush', u'russel', u'russian', u'rwsw', u'ryan', u'ryman', u's2', u's3', u's4', u's7', u'sabrina', u'sach', u'sacrific', u'sad', u'safe', u'safeti', u'said', u'sail', u'saint', u'sake', u'salad', u'sale', u'salt', u'salti', u'salvi', u'sam', u'samantha', u'same', u'sampl', u'samsung', u'sanction', u'sander', u'sane', u'sanfrancisco', u'santeria', u'santorum', u'sara', u'sarandon', u'sashimi', u'sat', u'satan', u'satellit', u'saturday', u'savag', u'save', u'saveforev', u'savior', u'saw', u'sawft', u'saxi', u'say', u'scale', u'scar', u'scare', u'scari', u'scene', u'schedul', u'scheme', u'schiphol', u'school', u'sci', u'scienc', u'scientist', u'scissor', u'scoop', u'score', u'scorpio', u'scott', u'scotus', u'scrambl', u'scratch', u'scream', u'screen', u'screw', u'scripp', u'scrunchi', u'scrutin', u'scuba', u'sculli', u'se', u'sea', u'seagat', u'sealer', u'search', u'season', u'seat', u'seattl', u'sebastienjessi', u'sec', u'second', u'secondhand', u'secret', u'section', u'secur', u'see', u'seed', u'seem', u'seen', u'sehun', u'seismologist', u'select', u'selena', u'self', u'selfi', u'selfish', u'sell', u'seller', u'sellout', u'semest', u'semi', u'semifin', u'senat', u'send', u'sens', u'sensei', u'sensit', u'sensori', u'sent', u'sentenc', u'seo', u'seokjin', u'seprat', u'seri', u'serious', u'sermon', u'serv', u'servic', u'session', u'set', u'settl', u'seven', u'seventh', u'sex', u'sexi', u'sexier', u'sexual', u'shaaanxopalett', u'shade', u'shadi', u'shadow', u'shadowhunt', u'shag', u'shape', u'sharandaross', u'share', u'sharia', u'shark', u'sharksuit', u'shawti', u'she', u'sheep', u'sheepi', u'shes', u'shia', u'shift', u'shine', u'ship', u'shipper', u'shirt', u'shirtless', u'shit', u'shitti', u'shitttt', u'shock', u'shockproof', u'shoe', u'shoot', u'shop', u'shopmycloset', u'short', u'shorten', u'shot', u'should', u'shoulda', u'shouldn', u'shout', u'show', u'showcas', u'shower', u'shtf', u'shuck', u'shut', u'shutdown', u'shutter', u'shuttl', u'shuya', u'side', u'sidearm', u'sierra', u'sign', u'silenc', u'silent', u'silic', u'silver', u'simon', u'simpl', u'simpli', u'simpson', u'simul', u'simultan', u'sinc', u'sing', u'singl', u'sink', u'sip', u'sir', u'siri', u'siriusxm', u'sister', u'sit', u'site', u'situat', u'six', u'size', u'sjr39', u'sketch', u'skewer', u'skill', u'skin', u'skinni', u'skip', u'skipper', u'skit', u'skull', u'skwad', u'skywalk', u'sla', u'slam', u'slater', u'sleek', u'sleep', u'sleev', u'sleeveless', u'slept', u'slfl', u'slflnottingham', u'slide', u'slot', u'slow', u'slowli', u'slr', u'slumber', u'sm', u'sma', u'small', u'smallest', u'smart', u'smartphon', u'smell', u'smh', u'smile', u'smiley', u'smith', u'smoke', u'smooth', u'smoothor', u'sms', u'snail', u'snaker', u'snap', u'snapchat', u'snatch', u'snicker', u'snickersbar', u'snip', u'snipe', u'snitch', u'snuggl', u'so', u'so4mor', u'sober', u'soc', u'soccer', u'social', u'socialist', u'socialmedia', u'socialsel', u'societi', u'sock', u'socrat', u'sofia', u'soft', u'softbal', u'sold', u'solid', u'solo', u'soloexmachina', u'solomon', u'solv', u'some', u'somebodi', u'somehow', u'someon', u'somerhald', u'someth', u'somethibg', u'sometim', u'somewher', u'somilfi', u'son', u'song', u'sonia', u'sonic', u'soo', u'soolperez', u'soon', u'soooooooo', u'sophi', u'sore', u'sori', u'sorri', u'sort', u'sos', u'soul', u'soulmat', u'sound', u'soundcheck', u'soundcloud', u'soundtrack', u'soundtrip', u'sourc', u'south', u'southern', u'sox', u'soxpromo', u'space', u'spacecraft', u'spaceship', u'spanish', u'spartan', u'speak', u'spec', u'special', u'specialbik', u'specif', u'spectacular', u'specul', u'speech', u'speechless', u'speediest', u'speedster', u'spend', u'spent', u'spi', u'spice', u'spin', u'spirit', u'spiritu', u'spit', u'spn', u'spnphx', u'spoken', u'sport', u'spot', u'spotless', u'spray', u'spread', u'spree', u'spring', u'springbreakpt2', u'springisher', u'sprint', u'sprung', u'spun', u'sqfav0r', u'squar', u'squat', u'squid', u'squirtl', u'sr', u'ss', u'ss16', u'ssc', u'sse', u'ssw', u'st', u'stadium', u'staff', u'stage', u'stair', u'stall', u'stallon', u'stamp', u'stanc', u'stand', u'standalon', u'standard', u'stanleycup', u'stapleton', u'star', u'starbuck', u'stare', u'starshot', u'start', u'starter', u'startup', u'starv', u'stat', u'state', u'statement', u'statesnap', u'station', u'stay', u'stbx1000101', u'steadi', u'steal', u'stedman', u'steelseri', u'steino', u'stem', u'stenberg', u'stencil', u'step', u'stephen', u'stephgonnasteph', u'stereotyp', u'steve', u'stewart', u'stfu', u'stick', u'sticker', u'stile', u'still', u'stitch', u'stock', u'stole', u'stolen', u'stomach', u'stone', u'stood', u'stop', u'storag', u'store', u'stori', u'storytel', u'straight', u'strategi', u'strawberri', u'streak', u'stream', u'streamfromhom', u'streamlin', u'street', u'strength', u'stress', u'stretch', u'strike', u'strikeout', u'stripe', u'strong', u'struggl', u'stteresaofavila', u'sttyyyyl', u'stubborn', u'student', u'studi', u'studio', u'stuf', u'stuff', u'stumbl', u'stun', u'stunner', u'stupid', u'stupidparti', u'style', u'stylish', u'stylus', u'su', u'sub', u'subject', u'sublim', u'submit', u'subscrib', u'subscribed16', u'subscript', u'substanc', u'substitut', u'subtitl', u'suburb', u'subvert', u'succeed', u'success', u'such', u'suck', u'sudden', u'sue', u'suffer', u'suga', u'sugar', u'suicid', u'suicidesquad', u'suit', u'summar', u'summer', u'sun', u'sunday', u'sungja', u'sunni', u'sunsat', u'sunscreen', u'sunset', u'sunshin', u'super', u'superboy', u'superhero', u'superhuman', u'supervillian', u'suppor', u'support', u'suppos', u'sure', u'surf', u'surgeri', u'surgic', u'surpris', u'surround', u'surviv', u'susan', u'sushi', u'suspect', u'suspend', u'suzuki', u'sw', u'swap', u'swath', u'sway', u'swaychalleng', u'swea', u'swear', u'sweari', u'sweat', u'sweater', u'sweet', u'sweetheart', u'swimsuit', u'swing', u'switch', u'swizz', u'sworn', u'sympathis', u'syndergaard', u'syracus', u'sysadmin', u'system', u't120', u't140', u't160', u't2', u't82', u'tab', u'tabl', u'taboo', u'tachomet', u'taco', u'tae', u'taeyeon', u'taft', u'tag', u'tail', u'tak', u'take', u'taken', u'takeovertuesday', u'takin', u'talent', u'talk', u'talmbou', u'tampa', u'tanaka', u'tank', u'tanneri', u'tanyat', u'tap', u'tape', u'targaryen', u'target', u'tart', u'tase', u'tast', u'tattoo', u'taurus', u'tax', u'taylor', u'tbh', u'tblvsdet', u'tbs', u'tchalla', u'tcot', u'te', u'tea', u'teach', u'teacher', u'teacup', u'team', u'teamcap', u'teamironman', u'teammat', u'tear', u'tech', u'techniq', u'technolog', u'ted', u'teen', u'teenag', u'teeth', u'tell', u'teller', u'temp', u'temperatur', u'temporari', u'tempratur', u'ten', u'tend', u'tepid', u'tequila', u'terabyt', u'term', u'terrestri', u'terribl', u'terrifi', u'terrorist', u'test', u'texa', u'text', u'texti', u'teyanna', u'tf', u'tgen', u'tgplb', u'th', u'tha', u'thailand', u'thaina', u'than', u'thang', u'thank', u'thankyou', u'thankyoukob', u'thasso', u'that', u'thatt', u'the', u'the100', u'theater', u'theatr', u'thebestfuelthebest', u'thecovenantpath', u'thee', u'theeconomist', u'theendlesssummertour', u'thegrindneverstop', u'their', u'them', u'then', u'theori', u'thepeoplescouch', u'therapeut', u'there', u'therealmikewitt', u'therefor', u'these', u'thesi', u'they', u'theysoratchet', u'thicken', u'thin', u'thine', u'thing', u'thingz', u'think', u'thinkin', u'third', u'this', u'thistimealwaysbemyhabibi', u'tho', u'thor', u'those', u'though', u'thought', u'thoughtless', u'thousand', u'thread', u'threat', u'three', u'thriller', u'throne', u'through', u'throughout', u'throw', u'throwback', u'thrown', u'thru', u'thugger', u'thur', u'thursday', u'thus', u'ticket', u'tide', u'tie', u'tiebreak', u'tiger', u'tigervsrhino', u'tigger', u'tight', u'til', u'till', u'tim', u'time', u'timeeee', u'timehop', u'timelin', u'timer', u'timmi', u'tini', u'tinker', u'tip', u'tire', u'titl', u'tix', u'tl', u'tlt', u'tmac', u'tmrw', u'tnaspincycl', u'tnk', u'to', u'toast', u'tobi', u'tocado', u'tocando', u'today', u'toe', u'toew', u'togeth', u'toilet', u'told', u'toll', u'tomoro', u'tomorrow', u'ton', u'tonight', u'tonn', u'too', u'took', u'toooorn', u'top', u'topbrewstu', u'topic', u'toplik', u'topp', u'toronto', u'tortuga', u'toshiba', u'total', u'totaldiva', u'totallifechang', u'touch', u'touhou', u'tour', u'tourist', u'tova', u'toward', u'towel', u'tower', u'town', u'toy', u'tr6c', u'tr6r', u'tr7', u'traci', u'track', u'trade', u'trademark', u'tradit', u'traffic', u'trail', u'trailer', u'train', u'trainer', u'tran', u'tranquil', u'transform', u'translat', u'transpond', u'trap', u'trapper', u'trash', u'travel', u'treat', u'treatment', u'trecru', u'tree', u'tremend', u'trend', u'trending20', u'trevor', u'tri', u'triadgymjam4', u'trial', u'tribeca2016', u'tribut', u'tricalcium', u'trick', u'trigger', u'trillion', u'trilog', u'triniti', u'trio', u'trip', u'tripl', u'tripoli', u'tritonday2016', u'triumph', u'trojan', u'troubl', u'troy', u'truck', u'true', u'truedetect', u'trujillo', u'truli', u'trump', u'trump2016', u'trust', u'trustworthi', u'truth', u'truuuuuuuu', u'tryna', u'trynna', u'tsmwin', u'tsuyu', u'tualla', u'tub', u'tubbi', u'tubul', u'tuck', u'tuejfken', u'tuesday', u'tulan', u'tum', u'tumblr', u'tummi', u'tuna', u'tune', u'tur', u'turkish', u'turn', u'turnbul', u'turnout', u'turnup', u'turtl', u'tutori', u'tux', u'tv', u'tw', u'tweep', u'tweetm', u'twerk', u'twice', u'twin', u'twinpeak', u'twitagra', u'twitter', u'two', u'ty', u'type', u'tyron', u'tytliv', u'ub', u'ucc', u'ucl', u'ucsandiego', u'uefa', u'ugh', u'ughhhhhh', u'ugli', u'uh', u'uhhh', u'ui', u'uk', u'ukrain', u'ulit', u'ultim', u'ultra', u'ultralight', u'ultrastack', u'un', u'unaccepta', u'unbear', u'unbeliev', u'unchart', u'unconvent', u'under', u'underappreci', u'underestim', u'undergo', u'underr', u'understand', u'understood', u'underworld', u'une', u'unfair', u'unfollow', u'unforgett', u'unfortun', u'uni', u'unicef', u'unifight', u'union', u'uniqu', u'unit', u'univers', u'unjustifi', u'unknown', u'unlik', u'unlock', u'unreleas', u'unsaid', u'unship', u'until', u'untrain', u'untru', u'unusu', u'unveil', u'up', u'updat', u'updo', u'upfront', u'upload', u'upon', u'upper', u'upset', u'upvot', u'ur', u'urbanlov', u'urg', u'urself', u'us', u'usa', u'usatodaylif', u'usb', u'usc', u'use', u'user', u'usual', u'ut', u'utter', u'uu', u'uv', u'ux', u'valentin', u'valley', u'valu', u'vanderbilt', u'vanessa', u'vangogh', u'vanuatu', u'vape', u'vapepromot', u'vapor', u'var', u'various', u'varsiti', u'vbuq', u'veep', u'vega', u'veggi', u'vergara', u'veri', u'verizon', u'versa', u'version', u'vesuvius', u'vibe', u'vibrant', u'vic', u'vice', u'victoria', u'vid', u'video', u'vietnam', u'view', u'vin', u'vine', u'vintag', u'vinyl', u'vinylsid', u'violat', u'violenc', u'violent', u'virgo', u'virus', u'vis', u'visibl', u'vision', u'visit', u'visitor', u'vivaberni', u'vlog', u'vm', u'vocal', u'voic', u'volum', u'volunt', u'vomit', u'vote', u'voter', u'voucher', u'vp', u'vs', u'vsg', u'w00t', u'w2', u'wa', u'waffl', u'wag1', u'wage', u'wait', u'wakanda', u'wake', u'walgreen', u'walk', u'walker', u'wallpap', u'wank', u'wanna', u'want', u'war', u'wari', u'warn', u'warner', u'warnock', u'warrior', u'was', u'wasco', u'wash', u'washington', u'wasn', u'wast', u'wat', u'watch', u'water', u'wattpadr', u'wawa', u'way', u'wayf', u'wayn', u'wb', u'we', u'weak', u'wealth', u'weapon', u'wear', u'wearefiveso', u'wearig', u'weather', u'weatherdisplay', u'web', u'webdesign', u'websit', u'wed', u'wednesday', u'weed', u'week', u'weekend', u'weezi', u'weigh', u'weight', u'weird', u'weirdo', u'weitchpec', u'well', u'welp', u'wen', u'wenren', u'went', u'were', u'west', u'westbrook', u'western', u'westmoreland', u'wet', u'wethepeopl', u'wethesouth', u'wewantcarmellamerchandis', u'wg', u'wgmu', u'whaaaaaat', u'whack', u'whale', u'what', u'whatd', u'whatev', u'when', u'whenev', u'where', u'whether', u'whey', u'whi', u'which', u'while', u'whine', u'whispr', u'white', u'who', u'whoa', u'whoever', u'whole', u'whorey', u'whose', u'wi', u'wick', u'widow', u'wieden', u'wieght', u'wife', u'wifi', u'wig', u'wild', u'will', u'willa', u'willi', u'william', u'willow', u'wilson', u'win', u'wind', u'windchil', u'window', u'windscreen', u'wing', u'winner', u'winni', u'wire', u'wisconsin', u'wisdom', u'wise', u'wish', u'wit', u'with', u'withdrawn', u'within', u'without', u'wjsn', u'wjz', u'wk', u'wna', u'wncweather', u'woke', u'wolf', u'wolv', u'woman', u'women', u'won', u'wonder', u'wonho', u'wonka', u'wont', u'woo', u'wood', u'woodman', u'wool', u'wooo', u'word', u'work', u'worker', u'workfromfr', u'workout', u'workshop', u'world', u'worldi', u'worldstarhiphop', u'worri', u'wors', u'worst', u'worth', u'wota', u'would', u'wouldn', u'wow', u'wp', u'wr', u'wrap', u'wrapper', u'wrestl', u'wright', u'wrist', u'write', u'writer', u'writerslif', u'writingislov', u'written', u'wrong', u'wrote', u'wtf', u'wtl', u'wuyifan', u'ww', u'wwt', u'wynwood', u'wynwoodmiami', u'x5', u'xacu', u'xanni', u'xcelchicago', u'xoxo', u'xv', u'xx', u'ya', u'yall', u'yander', u'yard', u'yater', u'yay', u'yea', u'yeah', u'yeahh', u'year', u'yeezi', u'yeg', u'yell', u'yelp', u'yep', u'yesss', u'yesterday', u'yesung', u'yet', u'yey', u'yg', u'yo', u'yok', u'yong', u'york', u'yorker', u'you', u'youdont', u'youll', u'young', u'your', u'yourself', u'youth', u'youtub', u'youu', u'youuuuuu', u'yrs', u'yu', u'yuh', u'yummi', u'yung', u'yunhyeong', u'yup', u'yurigagarin', u'yurok', u'yurokyouth', u'yxe', u'yyc', u'zanni', u'zendaya', u'zero', u'ziff', u'zo', u'zoom', u'zquad', u'zuckerberg']\n"
     ]
    }
   ],
   "source": [
    "documents = df.Text\n",
    "X_count = vectorizer.fit_transform(documents)\n",
    "print X_count.toarray()\n",
    "print vectorizer.get_feature_names()\n"
   ]
  },
  {
   "cell_type": "code",
   "execution_count": 49,
   "metadata": {
    "collapsed": false
   },
   "outputs": [
    {
     "name": "stdout",
     "output_type": "stream",
     "text": [
      "(2414, 8035)\n",
      "(2414, 1)\n",
      "[[0 0 0 ..., 0 0 1]\n",
      " [0 0 0 ..., 0 0 1]\n",
      " [0 0 0 ..., 0 0 0]\n",
      " ..., \n",
      " [0 0 0 ..., 0 0 0]\n",
      " [0 0 0 ..., 0 0 0]\n",
      " [0 0 0 ..., 0 0 0]]\n",
      "(2414, 8036)\n"
     ]
    }
   ],
   "source": [
    "#http://scikit-learn.org/stable/auto_examples/feature_stacker.html\n",
    "#trying to append to feature list X\n",
    "#http://stackoverflow.com/questions/19466868/how-do-i-do-classification-using-tfidfvectorizer-plus-metadata-in-practice\n",
    "import scipy\n",
    "linkCount = [df.LinkCount]\n",
    "linkCount = np.array(linkCount)\n",
    "X_metadata = scipy.sparse.csr_matrix(linkCount.T) #must transpose to get shape (___, 1)\n",
    "#print X_metadata\n",
    "#print X_count\n",
    "#X_metadata = [df.LinkCount.as_matrix()]\n",
    "print X_count.shape\n",
    "print X_metadata.shape\n",
    "X = scipy.sparse.hstack([X_count, X_metadata])\n",
    "print X.toarray()\n",
    "\n",
    "print X.shape"
   ]
  },
  {
   "cell_type": "code",
   "execution_count": 51,
   "metadata": {
    "collapsed": false
   },
   "outputs": [
    {
     "name": "stdout",
     "output_type": "stream",
     "text": [
      "train labels: \n",
      "[1 1 0 ..., 0 0 0]\n",
      "[0, 1]\n",
      "\n",
      "train features:\n",
      "[[0 0 0 ..., 0 0 1]\n",
      " [0 0 0 ..., 0 0 1]\n",
      " [0 0 0 ..., 0 0 0]\n",
      " ..., \n",
      " [0 0 0 ..., 0 0 0]\n",
      " [0 0 0 ..., 0 0 0]\n",
      " [0 0 0 ..., 0 0 0]]\n"
     ]
    }
   ],
   "source": [
    "train_labels = np.array(train_labels)\n",
    "train_features = X\n",
    "\n",
    "print \"train labels: \"\n",
    "print train_labels\n",
    "print labels\n",
    "print \n",
    "print \"train features:\"\n",
    "print train_features.toarray()"
   ]
  },
  {
   "cell_type": "code",
   "execution_count": 53,
   "metadata": {
    "collapsed": false
   },
   "outputs": [
    {
     "data": {
      "text/plain": [
       "LinearSVC(C=1.0, class_weight=None, dual=True, fit_intercept=True,\n",
       "     intercept_scaling=1, loss='squared_hinge', max_iter=1000,\n",
       "     multi_class='ovr', penalty='l2', random_state=None, tol=0.0001,\n",
       "     verbose=0)"
      ]
     },
     "execution_count": 53,
     "metadata": {},
     "output_type": "execute_result"
    }
   ],
   "source": [
    "#Make SVM classifier\n",
    "from sklearn import svm\n",
    "#linear or not?\n",
    "name = \"Liblinear\"\n",
    "#loss=?, penalty=?, dual=False?, tol=1e-3\n",
    "classifier = svm.LinearSVC()\n",
    "classifier.fit(train_features, train_labels)"
   ]
  },
  {
   "cell_type": "code",
   "execution_count": 85,
   "metadata": {
    "collapsed": false
   },
   "outputs": [
    {
     "name": "stdout",
     "output_type": "stream",
     "text": [
      "('Total tweets classified:', 2414)\n",
      "('Score:', 0.11922603712077398)\n",
      "Confusion matrix:\n",
      "[[2224  748]\n",
      " [ 863  748]]\n"
     ]
    }
   ],
   "source": [
    "#Make a pipeline\n",
    "from sklearn.pipeline import Pipeline\n",
    "\n",
    "pipeline = Pipeline([\n",
    "    ('vectorizer',   NoUrls_CountVectorizer(ngram_range = (1,1), binary =True,\n",
    "                                    min_df=1, stop_words=stop, strip_accents='ascii')),\n",
    "    ('classifier',  svm.LinearSVC()) ])\n",
    "\n",
    "from sklearn.cross_validation import KFold\n",
    "from sklearn.metrics import confusion_matrix, f1_score\n",
    "#adapted from http://zacstewart.com/2015/04/28/document-classification-with-scikit-learn.html\n",
    "k_fold = KFold(n=len(df), n_folds=10)\n",
    "scores = []\n",
    "confusion = np.array([[0, 0], [0, 0]])\n",
    "\n",
    "for train_indices, test_indices in k_fold:\n",
    "    train_text = df.iloc[train_indices]['Text'].values\n",
    "    train_y = df.iloc[train_indices]['Viral'].values\n",
    "    \n",
    "    test_text = df.iloc[test_indices]['Text'].values\n",
    "    test_y = df.iloc[test_indices]['Viral'].values\n",
    "    \n",
    "    pipeline.fit(train_text, train_y)\n",
    "    predictions = pipeline.predict(test_text)\n",
    "\n",
    "    #update totals\n",
    "    confusion += confusion_matrix(test_y, predictions)\n",
    "    score = f1_score(test_y, predictions, pos_label=1)\n",
    "    scores.append(score)\n",
    "print('Total tweets classified:', len(df))\n",
    "print('Score:', sum(scores)/len(scores))\n",
    "print('Confusion matrix:')\n",
    "print(confusion)"
   ]
  },
  {
   "cell_type": "code",
   "execution_count": 94,
   "metadata": {
    "collapsed": false
   },
   "outputs": [
    {
     "name": "stdout",
     "output_type": "stream",
     "text": [
      "('Total tweets classified:', 2414)\n",
      "('Score:', 0.13888145670754368)\n",
      "Confusion matrix:\n",
      "[[2235  737]\n",
      " [ 872  739]]\n"
     ]
    }
   ],
   "source": [
    "#Make kNN classifier\n",
    "#NearestCentroid, KNeighborsClassifier\n",
    "from sklearn import neighbors\n",
    "name = \"kNN\"\n",
    "# classifier = neighbors.\n",
    "# KNeighborsClassifier(n_neighbors = 10)\n",
    "# classifier.fit(train_features, train_labels)\n",
    "\n",
    "#Make a pipeline\n",
    "from sklearn.pipeline import Pipeline\n",
    "\n",
    "pipeline = Pipeline([\n",
    "    ('vectorizer',   NoUrls_CountVectorizer(ngram_range = (1,1), binary =True,\n",
    "                                    min_df=1, stop_words=stop, strip_accents='ascii')),\n",
    "    ('classifier',  neighbors.KNeighborsClassifier(n_neighbors = 4)) ])\n",
    "\n",
    "from sklearn.cross_validation import KFold\n",
    "from sklearn.metrics import confusion_matrix, f1_score\n",
    "#adapted from http://zacstewart.com/2015/04/28/document-classification-with-scikit-learn.html\n",
    "k_fold = KFold(n=len(df), n_folds=10)\n",
    "scores = []\n",
    "confusion = np.array([[0, 0], [0, 0]])\n",
    "\n",
    "for train_indices, test_indices in k_fold:\n",
    "    train_text = df.iloc[train_indices]['Text'].values\n",
    "    train_y = df.iloc[train_indices]['Viral'].values\n",
    "    \n",
    "    test_text = df.iloc[test_indices]['Text'].values\n",
    "    test_y = df.iloc[test_indices]['Viral'].values\n",
    "    \n",
    "    pipeline.fit(train_text, train_y)\n",
    "    predictions = pipeline.predict(test_text)\n",
    "\n",
    "    #update totals\n",
    "    confusion += confusion_matrix(test_y, predictions)\n",
    "    score = f1_score(test_y, predictions, pos_label=1)\n",
    "    scores.append(score)\n",
    "print('Total tweets classified:', len(df))\n",
    "print('Score:', sum(scores)/len(scores))\n",
    "print('Confusion matrix:')\n",
    "print(confusion)"
   ]
  },
  {
   "cell_type": "code",
   "execution_count": 84,
   "metadata": {
    "collapsed": false
   },
   "outputs": [
    {
     "name": "stderr",
     "output_type": "stream",
     "text": [
      "C:\\Users\\Leandra\\Anaconda2\\lib\\site-packages\\sklearn\\metrics\\classification.py:1074: UndefinedMetricWarning: F-score is ill-defined and being set to 0.0 due to no predicted samples.\n",
      "  'precision', 'predicted', average, warn_for)\n"
     ]
    },
    {
     "name": "stdout",
     "output_type": "stream",
     "text": [
      "('Total tweets classified:', 2414)\n",
      "('Score:', 0.09441786283891547)\n",
      "Confusion matrix:\n",
      "[[2247  966]\n",
      " [1113  980]]\n"
     ]
    }
   ],
   "source": [
    "#Make Random Forest clasisifier\n",
    "from sklearn import ensemble\n",
    "# name = \"randomforest\"\n",
    "# classifier = ensemble.RandomForestClassifier(n_estimators=100)\n",
    "# classifier.fit(train_features, train_labels)\n",
    "\n",
    "#Make a pipeline\n",
    "from sklearn.pipeline import Pipeline\n",
    "\n",
    "pipeline = Pipeline([\n",
    "    ('vectorizer',   NoUrls_CountVectorizer(ngram_range = (1,1), binary =True,\n",
    "                                    min_df=1, stop_words=stop, strip_accents='ascii')),\n",
    "    ('classifier',  ensemble.RandomForestClassifier(n_estimators=100)) ])\n",
    "\n",
    "from sklearn.cross_validation import KFold\n",
    "from sklearn.metrics import confusion_matrix, f1_score\n",
    "#adapted from http://zacstewart.com/2015/04/28/document-classification-with-scikit-learn.html\n",
    "k_fold = KFold(n=len(df), n_folds=10)\n",
    "scores = []\n",
    "confusion = np.array([[0, 0], [0, 0]])\n",
    "\n",
    "for train_indices, test_indices in k_fold:\n",
    "    train_text = df.iloc[train_indices]['Text'].values\n",
    "    train_y = df.iloc[train_indices]['Viral'].values\n",
    "    \n",
    "    test_text = df.iloc[test_indices]['Text'].values\n",
    "    test_y = df.iloc[test_indices]['Viral'].values\n",
    "    \n",
    "    pipeline.fit(train_text, train_y)\n",
    "    predictions = pipeline.predict(test_text)\n",
    "\n",
    "    #update totals\n",
    "    confusion += confusion_matrix(test_y, predictions)\n",
    "    score = f1_score(test_y, predictions, pos_label=1)\n",
    "    scores.append(score)\n",
    "print('Total tweets classified:', len(df))\n",
    "print('Score:', sum(scores)/len(scores))\n",
    "print('Confusion matrix:')\n",
    "print(confusion)"
   ]
  },
  {
   "cell_type": "code",
   "execution_count": null,
   "metadata": {
    "collapsed": true
   },
   "outputs": [],
   "source": []
  }
 ],
 "metadata": {
  "kernelspec": {
   "display_name": "Python 2",
   "language": "python",
   "name": "python2"
  },
  "language_info": {
   "codemirror_mode": {
    "name": "ipython",
    "version": 2
   },
   "file_extension": ".py",
   "mimetype": "text/x-python",
   "name": "python",
   "nbconvert_exporter": "python",
   "pygments_lexer": "ipython2",
   "version": "2.7.11"
  }
 },
 "nbformat": 4,
 "nbformat_minor": 0
}
